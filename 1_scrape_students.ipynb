{
 "cells": [
  {
   "cell_type": "code",
   "execution_count": 104,
   "metadata": {
    "collapsed": true
   },
   "outputs": [],
   "source": [
    "import os\n",
    "import warnings\n",
    "from tqdm import tqdm\n",
    "import ast\n",
    "from bs4 import BeautifulSoup\n",
    "import pandas as pd\n",
    "import matplotlib.pyplot as plt\n",
    "import matplotlib.animation as animation\n",
    "from sankeyflow import Sankey\n",
    "\n",
    "tqdm.pandas()\n",
    "warnings.filterwarnings(\"ignore\")"
   ]
  },
  {
   "cell_type": "code",
   "execution_count": null,
   "metadata": {
    "collapsed": false,
    "pycharm": {
     "name": "#%%\n"
    }
   },
   "outputs": [],
   "source": [
    "folder_path = \"./major_minor\"\n",
    "output_path = \"./datasets/major_minor.csv\""
   ]
  },
  {
   "cell_type": "code",
   "execution_count": 107,
   "metadata": {
    "collapsed": false,
    "pycharm": {
     "name": "#%%\n"
    }
   },
   "outputs": [],
   "source": [
    "def extract_major(majors):\n",
    "    creds = ast.literal_eval(majors)\n",
    "    if \"Major\" in creds.keys():\n",
    "        return creds[\"Major\"]\n",
    "    elif \"Advanced Major\" in creds.keys():\n",
    "        return creds[\"Advanced Major\"]\n",
    "    elif \"Second Major Equivalent\" in creds.keys():\n",
    "        return creds[\"Second Major Equivalent\"]\n",
    "    else:\n",
    "        return None"
   ]
  },
  {
   "cell_type": "code",
   "execution_count": 108,
   "metadata": {
    "collapsed": false,
    "pycharm": {
     "name": "#%%\n"
    }
   },
   "outputs": [],
   "source": [
    "def recurse_minor(creds):\n",
    "    if \"Minor\" in creds.keys():\n",
    "        return creds.pop(\"Minor\") + \",\" + str(recurse_minor(creds))\n",
    "    elif \"Concentration\" in creds.keys():\n",
    "        return creds.pop(\"Concentration\") + \",\" + str(recurse_minor(creds))\n",
    "    else:\n",
    "        return None\n",
    "\n",
    "def extract_minor(minors):\n",
    "    creds = ast.literal_eval(minors)\n",
    "    output = recurse_minor(creds)\n",
    "    return output[:-5] if output is not None else output\n"
   ]
  },
  {
   "cell_type": "code",
   "execution_count": 109,
   "metadata": {
    "collapsed": false,
    "pycharm": {
     "name": "#%%\n"
    }
   },
   "outputs": [
    {
     "name": "stderr",
     "output_type": "stream",
     "text": [
      "100%|██████████| 19/19 [00:01<00:00, 11.41it/s]\n"
     ]
    }
   ],
   "source": [
    "students = []\n",
    "for file_path in tqdm(os.listdir(folder_path)):\n",
    "\n",
    "    data = pd.read_csv(folder_path + \"/\" + file_path)\n",
    "    soup = BeautifulSoup(data.columns[0], 'html.parser')\n",
    "\n",
    "    for table in soup.find_all('table'):\n",
    "        for row in table.find_all('tr')[1:]:\n",
    "            cells = row.find_all('td')\n",
    "\n",
    "            students.append((cells[0].get_text(strip=True), cells[1].get_text(strip=True),\n",
    "                             cells[2].get_text(strip=True), cells[3].get_text(strip=True),\n",
    "                             cells[4].get_text(strip=True),\n",
    "                             ('{\"' + ('\", \"'.join(cells[5].stripped_strings)).replace(\" - \", '\": \"') + '\"}')))\n",
    "        break"
   ]
  },
  {
   "cell_type": "code",
   "execution_count": 110,
   "metadata": {
    "collapsed": false,
    "pycharm": {
     "name": "#%%\n"
    }
   },
   "outputs": [],
   "source": [
    "df = pd.DataFrame(students, columns=[\"batch\", \"email\", \"id\", \"name\", \"status\", \"majors\"])\n",
    "df[\"major\"] = df.apply(lambda x: extract_major(x[\"majors\"]) if x[\"majors\"] != '{\"\"}' else None, axis=1)\n",
    "df[\"minor\"] = df.apply(lambda x: extract_minor(x[\"majors\"]) if x[\"majors\"] != '{\"\"}' else None, axis=1)\n",
    "df.drop([\"majors\"], axis=1, inplace=True)"
   ]
  },
  {
   "cell_type": "code",
   "execution_count": 111,
   "metadata": {
    "collapsed": false,
    "pycharm": {
     "name": "#%%\n"
    }
   },
   "outputs": [],
   "source": [
    "df[\"program\"] = df[\"batch\"].apply(lambda x: x.split(\" \")[0].strip())\n",
    "df[\"grad\"] = df[\"batch\"].apply(lambda x: float(\"20\" + x.split(\"-\")[-1].strip()))\n",
    "df.sort_values(by=[\"program\", \"grad\", \"email\"], inplace=True)"
   ]
  },
  {
   "cell_type": "code",
   "execution_count": 112,
   "metadata": {
    "collapsed": false,
    "pycharm": {
     "name": "#%%\n"
    }
   },
   "outputs": [
    {
     "data": {
      "text/html": [
       "<div>\n",
       "<style scoped>\n",
       "    .dataframe tbody tr th:only-of-type {\n",
       "        vertical-align: middle;\n",
       "    }\n",
       "\n",
       "    .dataframe tbody tr th {\n",
       "        vertical-align: top;\n",
       "    }\n",
       "\n",
       "    .dataframe thead th {\n",
       "        text-align: right;\n",
       "    }\n",
       "</style>\n",
       "<table border=\"1\" class=\"dataframe\">\n",
       "  <thead>\n",
       "    <tr style=\"text-align: right;\">\n",
       "      <th></th>\n",
       "      <th>batch</th>\n",
       "      <th>email</th>\n",
       "      <th>id</th>\n",
       "      <th>name</th>\n",
       "      <th>status</th>\n",
       "      <th>major</th>\n",
       "      <th>minor</th>\n",
       "      <th>program</th>\n",
       "      <th>grad</th>\n",
       "    </tr>\n",
       "  </thead>\n",
       "  <tbody>\n",
       "    <tr>\n",
       "      <th>0</th>\n",
       "      <td>ASP 2017-18</td>\n",
       "      <td>aania_asp18@ashoka.edu.in</td>\n",
       "      <td>UG-14-1609</td>\n",
       "      <td>Aania</td>\n",
       "      <td>Graduated</td>\n",
       "      <td>None</td>\n",
       "      <td>None</td>\n",
       "      <td>ASP</td>\n",
       "      <td>2018.0</td>\n",
       "    </tr>\n",
       "    <tr>\n",
       "      <th>1</th>\n",
       "      <td>ASP 2017-18</td>\n",
       "      <td>aashna.lal_asp18@ashoka.edu.in</td>\n",
       "      <td>UG-14-0568</td>\n",
       "      <td>Aashna Lal</td>\n",
       "      <td>Graduated</td>\n",
       "      <td>None</td>\n",
       "      <td>CW</td>\n",
       "      <td>ASP</td>\n",
       "      <td>2018.0</td>\n",
       "    </tr>\n",
       "    <tr>\n",
       "      <th>2</th>\n",
       "      <td>ASP 2017-18</td>\n",
       "      <td>abhinav.srikant_asp18@ashoka.edu.in</td>\n",
       "      <td>UG-14-1833</td>\n",
       "      <td>Abhinav Srikant</td>\n",
       "      <td>Graduated</td>\n",
       "      <td>PSY</td>\n",
       "      <td>MS</td>\n",
       "      <td>ASP</td>\n",
       "      <td>2018.0</td>\n",
       "    </tr>\n",
       "    <tr>\n",
       "      <th>3</th>\n",
       "      <td>ASP 2017-18</td>\n",
       "      <td>aditya.prakash_asp18@ashoka.edu.in</td>\n",
       "      <td>UG-14-1812</td>\n",
       "      <td>Aditya Prakash</td>\n",
       "      <td>Graduated</td>\n",
       "      <td>None</td>\n",
       "      <td>MAT</td>\n",
       "      <td>ASP</td>\n",
       "      <td>2018.0</td>\n",
       "    </tr>\n",
       "    <tr>\n",
       "      <th>4</th>\n",
       "      <td>ASP 2017-18</td>\n",
       "      <td>ahan.bezbaroa_asp18@ashoka.edu.in</td>\n",
       "      <td>UG-14-0336</td>\n",
       "      <td>Ahan Bezbaroa</td>\n",
       "      <td>Graduated</td>\n",
       "      <td>PPE</td>\n",
       "      <td>ENG</td>\n",
       "      <td>ASP</td>\n",
       "      <td>2018.0</td>\n",
       "    </tr>\n",
       "    <tr>\n",
       "      <th>...</th>\n",
       "      <td>...</td>\n",
       "      <td>...</td>\n",
       "      <td>...</td>\n",
       "      <td>...</td>\n",
       "      <td>...</td>\n",
       "      <td>...</td>\n",
       "      <td>...</td>\n",
       "      <td>...</td>\n",
       "      <td>...</td>\n",
       "    </tr>\n",
       "    <tr>\n",
       "      <th>7001</th>\n",
       "      <td>UG 2023-27</td>\n",
       "      <td>yuvakshi.dam_ug2023@ashoka.edu.in</td>\n",
       "      <td>1020231747</td>\n",
       "      <td>Yuvakshi Dam</td>\n",
       "      <td>Enrolled</td>\n",
       "      <td>None</td>\n",
       "      <td>None</td>\n",
       "      <td>UG</td>\n",
       "      <td>2027.0</td>\n",
       "    </tr>\n",
       "    <tr>\n",
       "      <th>7002</th>\n",
       "      <td>UG 2023-27</td>\n",
       "      <td>yuvraj.verma_ug2023@ashoka.edu.in</td>\n",
       "      <td>1020231748</td>\n",
       "      <td>Yuvraj Verma</td>\n",
       "      <td>Enrolled</td>\n",
       "      <td>None</td>\n",
       "      <td>None</td>\n",
       "      <td>UG</td>\n",
       "      <td>2027.0</td>\n",
       "    </tr>\n",
       "    <tr>\n",
       "      <th>7003</th>\n",
       "      <td>UG 2023-27</td>\n",
       "      <td>zahra.baqeri_ug2023@ashoka.edu.in</td>\n",
       "      <td>1020231020</td>\n",
       "      <td>Zahra Baqeri</td>\n",
       "      <td>Enrolled</td>\n",
       "      <td>None</td>\n",
       "      <td>None</td>\n",
       "      <td>UG</td>\n",
       "      <td>2027.0</td>\n",
       "    </tr>\n",
       "    <tr>\n",
       "      <th>7004</th>\n",
       "      <td>UG 2023-27</td>\n",
       "      <td>zahrah.imani_ug2023@ashoka.edu.in</td>\n",
       "      <td>1020231749</td>\n",
       "      <td>Zahrah Salim Imani</td>\n",
       "      <td>Enrolled</td>\n",
       "      <td>None</td>\n",
       "      <td>None</td>\n",
       "      <td>UG</td>\n",
       "      <td>2027.0</td>\n",
       "    </tr>\n",
       "    <tr>\n",
       "      <th>7005</th>\n",
       "      <td>UG 2023-27</td>\n",
       "      <td>zohran.ahmed_ug2023@ashoka.edu.in</td>\n",
       "      <td>1020231751</td>\n",
       "      <td>Zohran Ahmed</td>\n",
       "      <td>Enrolled</td>\n",
       "      <td>None</td>\n",
       "      <td>None</td>\n",
       "      <td>UG</td>\n",
       "      <td>2027.0</td>\n",
       "    </tr>\n",
       "  </tbody>\n",
       "</table>\n",
       "<p>7006 rows × 9 columns</p>\n",
       "</div>"
      ],
      "text/plain": [
       "            batch                                email          id  \\\n",
       "0     ASP 2017-18            aania_asp18@ashoka.edu.in  UG-14-1609   \n",
       "1     ASP 2017-18       aashna.lal_asp18@ashoka.edu.in  UG-14-0568   \n",
       "2     ASP 2017-18  abhinav.srikant_asp18@ashoka.edu.in  UG-14-1833   \n",
       "3     ASP 2017-18   aditya.prakash_asp18@ashoka.edu.in  UG-14-1812   \n",
       "4     ASP 2017-18    ahan.bezbaroa_asp18@ashoka.edu.in  UG-14-0336   \n",
       "...           ...                                  ...         ...   \n",
       "7001   UG 2023-27    yuvakshi.dam_ug2023@ashoka.edu.in  1020231747   \n",
       "7002   UG 2023-27    yuvraj.verma_ug2023@ashoka.edu.in  1020231748   \n",
       "7003   UG 2023-27    zahra.baqeri_ug2023@ashoka.edu.in  1020231020   \n",
       "7004   UG 2023-27    zahrah.imani_ug2023@ashoka.edu.in  1020231749   \n",
       "7005   UG 2023-27    zohran.ahmed_ug2023@ashoka.edu.in  1020231751   \n",
       "\n",
       "                    name     status major minor program    grad  \n",
       "0                  Aania  Graduated  None  None     ASP  2018.0  \n",
       "1             Aashna Lal  Graduated  None    CW     ASP  2018.0  \n",
       "2        Abhinav Srikant  Graduated   PSY    MS     ASP  2018.0  \n",
       "3         Aditya Prakash  Graduated  None   MAT     ASP  2018.0  \n",
       "4          Ahan Bezbaroa  Graduated   PPE   ENG     ASP  2018.0  \n",
       "...                  ...        ...   ...   ...     ...     ...  \n",
       "7001        Yuvakshi Dam   Enrolled  None  None      UG  2027.0  \n",
       "7002        Yuvraj Verma   Enrolled  None  None      UG  2027.0  \n",
       "7003        Zahra Baqeri   Enrolled  None  None      UG  2027.0  \n",
       "7004  Zahrah Salim Imani   Enrolled  None  None      UG  2027.0  \n",
       "7005        Zohran Ahmed   Enrolled  None  None      UG  2027.0  \n",
       "\n",
       "[7006 rows x 9 columns]"
      ]
     },
     "execution_count": 112,
     "metadata": {},
     "output_type": "execute_result"
    }
   ],
   "source": [
    "df.to_csv(output_path, index=False)\n",
    "df"
   ]
  },
  {
   "cell_type": "code",
   "execution_count": 123,
   "metadata": {
    "collapsed": false,
    "pycharm": {
     "name": "#%%\n"
    }
   },
   "outputs": [],
   "source": []
  }
 ],
 "metadata": {
  "kernelspec": {
   "display_name": "Python 3",
   "language": "python",
   "name": "python3"
  },
  "language_info": {
   "codemirror_mode": {
    "name": "ipython",
    "version": 2
   },
   "file_extension": ".py",
   "mimetype": "text/x-python",
   "name": "python",
   "nbconvert_exporter": "python",
   "pygments_lexer": "ipython2",
   "version": "2.7.6"
  }
 },
 "nbformat": 4,
 "nbformat_minor": 0
}
