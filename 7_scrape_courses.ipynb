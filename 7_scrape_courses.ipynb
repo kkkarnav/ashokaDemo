{
 "cells": [
  {
   "cell_type": "code",
   "execution_count": 1,
   "metadata": {
    "collapsed": true
   },
   "outputs": [],
   "source": [
    "import os\n",
    "import warnings\n",
    "from tqdm import tqdm\n",
    "import random\n",
    "import requests\n",
    "from pprint import pprint\n",
    "import json\n",
    "import ast\n",
    "from bs4 import BeautifulSoup\n",
    "import pandas as pd\n",
    "import matplotlib.pyplot as plt\n",
    "\n",
    "tqdm.pandas()\n",
    "warnings.filterwarnings(\"ignore\")"
   ]
  },
  {
   "cell_type": "code",
   "execution_count": 2,
   "outputs": [],
   "source": [
    "output_path = \"./courses/\"\n",
    "base_url = \"https://ams.ashoka.edu.in\"\n",
    "semesters = {\"Monsoon 2024\": \"SCH00000031\", \"Summer 2024\": \"SCH00000030\", \"Spring 2024\": \"SCH00000029\", \"Monsoon 2023\": \"SCH00000028\", \"Summer 2023\": \"SCH00000027\", \"Spring 2023\": \"SCH00000026\", \"Monsoon 2022\": \"SCH00000025\", \"Summer 2022\": \"SCH00000024\", \"Spring 2022\": \"SCH00000023\", \"Monsoon 2021\": \"SCH00000022\", \"Summer 2021\": \"SCH00000021\", \"Spring 2021\": \"SCH00000020\", \"Monsoon 2020\": \"SCH00000019\", \"Summer 2020\": \"SCH00000018\", \"Spring 2020\": \"SCH00000017\", \"Monsoon 2019\": \"SCH00000016\", \"Summer 2019\": \"SCH00000015\", \"Spring 2019\": \"SCH00000014\", \"Monsoon 2018\": \"SCH00000013\", \"Summer 2018\": \"SCH00000012\", \"Spring 2018\": \"SCH00000011\", \"Monsoon 2017\": \"SCH00000010\", \"Summer 2017\": \"SCH00000009\", \"Spring 2017\": \"SCH00000008\", \"Monsoon 2016\": \"SCH00000007\", \"Summer 2016\": \"SCH00000006\", \"Spring 2016\": \"SCH00000005\", \"Monsoon 2015\": \"SCH00000004\", \"Summer 2015\": \"SCH00000003\", \"Spring 2015\": \"SCH00000002\", \"Monsoon 2014\": \"SCH00000001\"}\n",
    "\n",
    "session_id = \"55i3wqxvjtlibnkq13rrudzv\""
   ],
   "metadata": {
    "collapsed": false,
    "pycharm": {
     "name": "#%%\n"
    }
   }
  },
  {
   "cell_type": "code",
   "execution_count": 3,
   "outputs": [],
   "source": [
    "possible_headers = [\n",
    "    {\n",
    "        \"User-agent\": \"Mozilla/5.0 (Macintosh; Intel Mac OS X 10_15_5) AppleWebKit/605.1.15 \"\n",
    "                      \"(KHTML, like Gecko) Version/13.1.1 Safari/605.1.15\"\n",
    "    },\n",
    "    {\n",
    "        \"User-agent\": \"Mozilla/5.0 (Windows NT 10.0; Win64; x64; rv:77.0) Gecko/20100101 Firefox/77.0\"\n",
    "    },\n",
    "    {\n",
    "        \"User-agent\": \"Mozilla/5.0 (Macintosh; Intel Mac OS X 10_15_5) AppleWebKit/537.36 \"\n",
    "                      \"(KHTML, like Gecko) Chrome/83.0.4103.97 Safari/537.36\"\n",
    "    },\n",
    "    {\n",
    "        \"User-agent\": \"Mozilla/5.0 (Macintosh; Intel Mac OS X 10.15; rv:77.0) Gecko/20100101 Firefox/77.0\"\n",
    "    },\n",
    "    {\n",
    "        \"User-agent\": \"Mozilla/5.0 (Windows NT 10.0; Win64; x64) AppleWebKit/537.36 \"\n",
    "                      \"(KHTML, like Gecko) Chrome/83.0.4103.97 Safari/537.36\"\n",
    "    },\n",
    "]"
   ],
   "metadata": {
    "collapsed": false,
    "pycharm": {
     "name": "#%%\n"
    }
   }
  },
  {
   "cell_type": "code",
   "execution_count": 4,
   "outputs": [],
   "source": [
    "def grab_sem_courses(session, sem):\n",
    "\n",
    "    url = base_url + \"/Contents/Reports/CourseWiseRegisteredStudentReport_Student.aspx/BindCourse\"\n",
    "\n",
    "    # HTTP headers to make the server accept the request\n",
    "    headers = {\n",
    "        \"User-Agent\": possible_headers[random.randrange(0, 5)][\"User-agent\"],\n",
    "        \"Accept\": \"application/json, text/javascript, */*; q=0.01\",\n",
    "        \"Accept-Language\": \"en-GB,en-US;q=0.7,en;q=0.3\",\n",
    "        \"Accept-Encoding\": \"gzip, deflate, br, zstd\",\n",
    "        \"Content-Type\": \"application/json\",\n",
    "        \"Origin\": base_url,\n",
    "        \"DNT\": \"1\",\n",
    "        \"Connection\": \"keep-alive\",\n",
    "        \"Referer\": base_url + \"/Contents/Reports/CourseWiseRegisteredStudentReport_Student.aspx\",\n",
    "        \"Sec-Fetch-Dest\": \"empty\",\n",
    "        \"Sec-Fetch-Mode\": \"cors\",\n",
    "        \"Sec-Fetch-Site\": \"same-origin\",\n",
    "        \"Sec-GPC\": \"1\",\n",
    "        \"Cookie\": \"ASP.NET_SessionId=\" + session_id + \"; __AJAXAntiXsrfToken=n3We4vJupHXY87Eo_o8Jh5dNfU7FRpQ8gh4grRdJILiWG2qIAeZGoJp-dASQ5z9rGWZ-iyk3-CeUAOCH2QmuJgFUKGmUJkM8Zq5sKITXV0E1\",\n",
    "    }\n",
    "    post_data = \"{\\\"xml\\\":\\\"<tbl><tr><ScheduleSysGenId>\" + semesters[sem] + \"</ScheduleSysGenId></tr></tbl>\\\"}\"\n",
    "\n",
    "    try:\n",
    "        # Return the html if successful\n",
    "        response = session.post(url, data=post_data, headers=headers)\n",
    "        if response.status_code == 200:\n",
    "            return response.text\n",
    "        else:\n",
    "            # Return an error code if not\n",
    "            print(f\"Failed to download course list from: {url}, status code: {response.status_code}\", )\n",
    "            return response.status_code\n",
    "    except Exception as e:\n",
    "        print(f\"Failed to download course list from: {url}, error: {e}\")\n",
    "        return"
   ],
   "metadata": {
    "collapsed": false,
    "pycharm": {
     "name": "#%%\n"
    }
   }
  },
  {
   "cell_type": "code",
   "execution_count": 5,
   "outputs": [],
   "source": [
    "def parse_sem_courses(courses):\n",
    "    course_list = ast.literal_eval(ast.literal_eval(courses.replace(\"\\\\n\", \"\").replace(\"\\\\r\", \"\"))['d'])\n",
    "    for course in course_list:\n",
    "        course['course_name'] = course['CourseCode'].split(\"]\")[1].strip()\n",
    "        course['course_code'] = course['CourseCode'].split(\"]\")[0] + \"]\"\n",
    "        del course['CourseCode']\n",
    "\n",
    "    return course_list"
   ],
   "metadata": {
    "collapsed": false,
    "pycharm": {
     "name": "#%%\n"
    }
   }
  },
  {
   "cell_type": "code",
   "execution_count": 6,
   "outputs": [],
   "source": [
    "def scrape_all_courses():\n",
    "\n",
    "    all_courses = {}\n",
    "\n",
    "    for semester in semesters.keys():\n",
    "        with requests.Session() as session:\n",
    "            all_courses[semester] = parse_sem_courses(grab_sem_courses(session, semester))\n",
    "\n",
    "    return all_courses"
   ],
   "metadata": {
    "collapsed": false,
    "pycharm": {
     "name": "#%%\n"
    }
   }
  },
  {
   "cell_type": "code",
   "execution_count": 7,
   "outputs": [],
   "source": [
    "def grab_info(session, sem_id, course_id, counter):\n",
    "\n",
    "    url = base_url + \"/Contents/Reports/CourseWiseRegisteredStudentReport_Student.aspx/GetListData\"\n",
    "\n",
    "    # HTTP headers to make the server accept the request\n",
    "    headers = {\n",
    "        \"User-Agent\": possible_headers[random.randrange(0, 5)][\"User-agent\"],\n",
    "        \"Accept\": \"application/json, text/javascript, */*; q=0.01\",\n",
    "        \"Accept-Language\": \"en-GB,en-US;q=0.7,en;q=0.3\",\n",
    "        \"Accept-Encoding\": \"gzip, deflate, br, zstd\",\n",
    "        \"Content-Type\": \"application/json\",\n",
    "        \"Origin\": base_url,\n",
    "        \"DNT\": \"1\",\n",
    "        \"Connection\": \"keep-alive\",\n",
    "        \"Referer\": base_url + \"/Contents/Reports/CourseWiseRegisteredStudentReport_Student.aspx\",\n",
    "        \"Sec-Fetch-Dest\": \"empty\",\n",
    "        \"Sec-Fetch-Mode\": \"cors\",\n",
    "        \"Sec-Fetch-Site\": \"same-origin\",\n",
    "        \"Sec-GPC\": \"1\",\n",
    "        \"Cookie\": \"ASP.NET_SessionId=\" + session_id + \"; __AJAXAntiXsrfToken=n3We4vJupHXY87Eo_o8Jh5dNfU7FRpQ8gh4grRdJILiWG2qIAeZGoJp-dASQ5z9rGWZ-iyk3-CeUAOCH2QmuJgFUKGmUJkM8Zq5sKITXV0E1\",\n",
    "    }\n",
    "    post_data = \"{\\\"xml\\\":\\\"<tbl><tr><CourseSysGenId>\" + str(course_id) + \"</CourseSysGenId><ScheduleSysGenId>\" + str(sem_id) + \"</ScheduleSysGenId><LSNo>\" + str(counter) + \"</LSNo><DSNo></DSNo><RegistrationStatus></RegistrationStatus></tr></tbl>\\\"}\"\n",
    "\n",
    "    try:\n",
    "        # Return the html if successful\n",
    "        response = session.post(url, data=post_data, headers=headers)\n",
    "        if response.status_code == 200:\n",
    "            return response.text\n",
    "        else:\n",
    "            # Return an error code if not\n",
    "            print(f\"Failed to download course info from: {url}, status code: {response.status_code}\", )\n",
    "            return response.status_code\n",
    "    except Exception as e:\n",
    "        print(f\"Failed to download course info from: {url}, error: {e}\")\n",
    "        return"
   ],
   "metadata": {
    "collapsed": false,
    "pycharm": {
     "name": "#%%\n"
    }
   }
  },
  {
   "cell_type": "code",
   "execution_count": 8,
   "outputs": [],
   "source": [
    "def parse_course_info(info):\n",
    "    data = ast.literal_eval(str(info).replace(\"\\\\n\", \"\").replace(\"\\\\r\", \"\").replace(\"null\", \"\\\\\\\"null\\\\\\\"\"))[\"d\"]\n",
    "    student_list = ast.literal_eval(data)[\"Table\"]\n",
    "    student_list = [x for x in student_list if \"student\" not in x[\"AshokaEmailId\"]]\n",
    "\n",
    "    return student_list"
   ],
   "metadata": {
    "collapsed": false,
    "pycharm": {
     "name": "#%%\n"
    }
   }
  },
  {
   "cell_type": "code",
   "execution_count": 41,
   "outputs": [],
   "source": [
    "def scrape_all_course_info(df):\n",
    "\n",
    "    all_students = {}\n",
    "\n",
    "    with requests.Session() as session:\n",
    "        for index, course in tqdm(df.iterrows()):\n",
    "\n",
    "            first_ls = parse_course_info(grab_info(session, course[\"schedule_id\"], course[\"course_id\"], 1))\n",
    "            all_students[(course[\"schedule_id\"], course[\"course_id\"], 1)] = first_ls\n",
    "\n",
    "            next_ls = grab_info(session, course[\"schedule_id\"], course[\"course_id\"], 2)\n",
    "            if not (\"PreRegistered\" in next_ls or \"Confirmed\" in next_ls):\n",
    "                continue\n",
    "\n",
    "            all_students[(course[\"schedule_id\"], course[\"course_id\"], 2)] = parse_course_info(next_ls)\n",
    "            counter = 3\n",
    "            next_ls = grab_info(session, course[\"schedule_id\"], course[\"course_id\"], counter)\n",
    "\n",
    "            while \"PreRegistered\" in next_ls or \"Confirmed\" in next_ls:\n",
    "                all_students[(course[\"schedule_id\"], course[\"course_id\"], counter)] = parse_course_info(next_ls)\n",
    "                counter += 1\n",
    "                next_ls = grab_info(session, course[\"schedule_id\"], course[\"course_id\"], counter)\n",
    "\n",
    "    return all_students"
   ],
   "metadata": {
    "collapsed": false,
    "pycharm": {
     "name": "#%%\n"
    }
   }
  },
  {
   "cell_type": "code",
   "execution_count": 10,
   "outputs": [],
   "source": [
    "all_courses = scrape_all_courses()"
   ],
   "metadata": {
    "collapsed": false,
    "pycharm": {
     "name": "#%%\n"
    }
   }
  },
  {
   "cell_type": "code",
   "execution_count": 11,
   "outputs": [
    {
     "data": {
      "text/plain": "          semester                                               name  \\\n0     Monsoon 2024                        The Earth and Other Planets   \n1     Monsoon 2024                  Cosmic Messengers -2 (Laboratory)   \n2     Monsoon 2024  Introduction to Biology 3: Molecular Genetics ...   \n3     Monsoon 2024  Laboratory Course 2: Molecular Biology and Bio...   \n4     Monsoon 2024           Introduction to Biology II: Cell Biology   \n...            ...                                                ...   \n6415  Monsoon 2014      Introduction to Ethics and Global Citizenship   \n6416  Monsoon 2014                   Introduction to Political Theory   \n6417  Monsoon 2014                         Introduction to Psychology   \n6418  Monsoon 2014                                        Visual Arts   \n6419  Monsoon 2014                                           Ceramics   \n\n                                                   code  schedule_id  \\\n0                        [AST-2840/ AST-3840/ PHY-3840]  SCH00000031   \n1     [AST-3880/ AST-4880/ PHY-3880/ PHY-4880/ PHY-6...  SCH00000031   \n2                                            [BIO-2201]  SCH00000031   \n3                                            [BIO-2212]  SCH00000031   \n4                                            [BIO-2214]  SCH00000031   \n...                                                 ...          ...   \n6415                                          [PHI-209]  SCH00000001   \n6416                                          [POL-101]  SCH00000001   \n6417                                         [PSY-1001]  SCH00000001   \n6418                                           [VA-001]  SCH00000001   \n6419                                           [VA-002]  SCH00000001   \n\n        course_id  \n0     CRS00004743  \n1     CRS00004745  \n2     CRS00003118  \n3     CRS00000873  \n4     CRS00003225  \n...           ...  \n6415  CRS00000518  \n6416  CRS00000031  \n6417  CRS00000032  \n6418  CRS00000034  \n6419  CRS00000035  \n\n[6420 rows x 5 columns]",
      "text/html": "<div>\n<style scoped>\n    .dataframe tbody tr th:only-of-type {\n        vertical-align: middle;\n    }\n\n    .dataframe tbody tr th {\n        vertical-align: top;\n    }\n\n    .dataframe thead th {\n        text-align: right;\n    }\n</style>\n<table border=\"1\" class=\"dataframe\">\n  <thead>\n    <tr style=\"text-align: right;\">\n      <th></th>\n      <th>semester</th>\n      <th>name</th>\n      <th>code</th>\n      <th>schedule_id</th>\n      <th>course_id</th>\n    </tr>\n  </thead>\n  <tbody>\n    <tr>\n      <th>0</th>\n      <td>Monsoon 2024</td>\n      <td>The Earth and Other Planets</td>\n      <td>[AST-2840/ AST-3840/ PHY-3840]</td>\n      <td>SCH00000031</td>\n      <td>CRS00004743</td>\n    </tr>\n    <tr>\n      <th>1</th>\n      <td>Monsoon 2024</td>\n      <td>Cosmic Messengers -2 (Laboratory)</td>\n      <td>[AST-3880/ AST-4880/ PHY-3880/ PHY-4880/ PHY-6...</td>\n      <td>SCH00000031</td>\n      <td>CRS00004745</td>\n    </tr>\n    <tr>\n      <th>2</th>\n      <td>Monsoon 2024</td>\n      <td>Introduction to Biology 3: Molecular Genetics ...</td>\n      <td>[BIO-2201]</td>\n      <td>SCH00000031</td>\n      <td>CRS00003118</td>\n    </tr>\n    <tr>\n      <th>3</th>\n      <td>Monsoon 2024</td>\n      <td>Laboratory Course 2: Molecular Biology and Bio...</td>\n      <td>[BIO-2212]</td>\n      <td>SCH00000031</td>\n      <td>CRS00000873</td>\n    </tr>\n    <tr>\n      <th>4</th>\n      <td>Monsoon 2024</td>\n      <td>Introduction to Biology II: Cell Biology</td>\n      <td>[BIO-2214]</td>\n      <td>SCH00000031</td>\n      <td>CRS00003225</td>\n    </tr>\n    <tr>\n      <th>...</th>\n      <td>...</td>\n      <td>...</td>\n      <td>...</td>\n      <td>...</td>\n      <td>...</td>\n    </tr>\n    <tr>\n      <th>6415</th>\n      <td>Monsoon 2014</td>\n      <td>Introduction to Ethics and Global Citizenship</td>\n      <td>[PHI-209]</td>\n      <td>SCH00000001</td>\n      <td>CRS00000518</td>\n    </tr>\n    <tr>\n      <th>6416</th>\n      <td>Monsoon 2014</td>\n      <td>Introduction to Political Theory</td>\n      <td>[POL-101]</td>\n      <td>SCH00000001</td>\n      <td>CRS00000031</td>\n    </tr>\n    <tr>\n      <th>6417</th>\n      <td>Monsoon 2014</td>\n      <td>Introduction to Psychology</td>\n      <td>[PSY-1001]</td>\n      <td>SCH00000001</td>\n      <td>CRS00000032</td>\n    </tr>\n    <tr>\n      <th>6418</th>\n      <td>Monsoon 2014</td>\n      <td>Visual Arts</td>\n      <td>[VA-001]</td>\n      <td>SCH00000001</td>\n      <td>CRS00000034</td>\n    </tr>\n    <tr>\n      <th>6419</th>\n      <td>Monsoon 2014</td>\n      <td>Ceramics</td>\n      <td>[VA-002]</td>\n      <td>SCH00000001</td>\n      <td>CRS00000035</td>\n    </tr>\n  </tbody>\n</table>\n<p>6420 rows × 5 columns</p>\n</div>"
     },
     "execution_count": 11,
     "metadata": {},
     "output_type": "execute_result"
    }
   ],
   "source": [
    "temp = {}\n",
    "for key in all_courses:\n",
    "    sem = all_courses[key]\n",
    "    temp[key] = {}\n",
    "    temp[key][\"name\"] = [x['course_name'] for x in sem]\n",
    "    temp[key][\"code\"] = [x['course_code'] for x in sem]\n",
    "    temp[key][\"schedule_id\"] = [x['ScheduleSysGenId'] for x in sem]\n",
    "    temp[key][\"course_id\"] = [x['CourseSysGenId'] for x in sem]\n",
    "\n",
    "df = pd.DataFrame([\n",
    "    {**{'semester': key}, **{subkey: value[i] if i < len(value) else None for subkey, value in subdict.items()}}\n",
    "    for key, subdict in temp.items()\n",
    "    for i in range(max(len(lst) for lst in subdict.values()))\n",
    "])\n",
    "df"
   ],
   "metadata": {
    "collapsed": false,
    "pycharm": {
     "name": "#%%\n"
    }
   }
  },
  {
   "cell_type": "code",
   "execution_count": 12,
   "outputs": [
    {
     "data": {
      "text/plain": "          semester                                               name  \\\n0     Monsoon 2024                        The Earth and Other Planets   \n1     Monsoon 2024                  Cosmic Messengers -2 (Laboratory)   \n2     Monsoon 2024  Introduction to Biology 3: Molecular Genetics ...   \n3     Monsoon 2024  Laboratory Course 2: Molecular Biology and Bio...   \n4     Monsoon 2024           Introduction to Biology II: Cell Biology   \n...            ...                                                ...   \n6415  Monsoon 2014      Introduction to Ethics and Global Citizenship   \n6416  Monsoon 2014                   Introduction to Political Theory   \n6417  Monsoon 2014                         Introduction to Psychology   \n6418  Monsoon 2014                                        Visual Arts   \n6419  Monsoon 2014                                           Ceramics   \n\n                                                   code  schedule_id  \\\n0                        [AST-2840/ AST-3840/ PHY-3840]  SCH00000031   \n1     [AST-3880/ AST-4880/ PHY-3880/ PHY-4880/ PHY-6...  SCH00000031   \n2                                            [BIO-2201]  SCH00000031   \n3                                            [BIO-2212]  SCH00000031   \n4                                            [BIO-2214]  SCH00000031   \n...                                                 ...          ...   \n6415                                          [PHI-209]  SCH00000001   \n6416                                          [POL-101]  SCH00000001   \n6417                                         [PSY-1001]  SCH00000001   \n6418                                           [VA-001]  SCH00000001   \n6419                                           [VA-002]  SCH00000001   \n\n        course_id     term  year  acad_year department  is_ism  is_crosslist  \n0     CRS00004743  Monsoon  2024  2024-2025        AST   False          True  \n1     CRS00004745  Monsoon  2024  2024-2025        AST   False          True  \n2     CRS00003118  Monsoon  2024  2024-2025        BIO   False         False  \n3     CRS00000873  Monsoon  2024  2024-2025        BIO   False         False  \n4     CRS00003225  Monsoon  2024  2024-2025        BIO   False         False  \n...           ...      ...   ...        ...        ...     ...           ...  \n6415  CRS00000518  Monsoon  2014  2014-2015        PHI   False         False  \n6416  CRS00000031  Monsoon  2014  2014-2015        POL   False         False  \n6417  CRS00000032  Monsoon  2014  2014-2015        PSY   False         False  \n6418  CRS00000034  Monsoon  2014  2014-2015         VA   False         False  \n6419  CRS00000035  Monsoon  2014  2014-2015         VA   False         False  \n\n[6326 rows x 11 columns]",
      "text/html": "<div>\n<style scoped>\n    .dataframe tbody tr th:only-of-type {\n        vertical-align: middle;\n    }\n\n    .dataframe tbody tr th {\n        vertical-align: top;\n    }\n\n    .dataframe thead th {\n        text-align: right;\n    }\n</style>\n<table border=\"1\" class=\"dataframe\">\n  <thead>\n    <tr style=\"text-align: right;\">\n      <th></th>\n      <th>semester</th>\n      <th>name</th>\n      <th>code</th>\n      <th>schedule_id</th>\n      <th>course_id</th>\n      <th>term</th>\n      <th>year</th>\n      <th>acad_year</th>\n      <th>department</th>\n      <th>is_ism</th>\n      <th>is_crosslist</th>\n    </tr>\n  </thead>\n  <tbody>\n    <tr>\n      <th>0</th>\n      <td>Monsoon 2024</td>\n      <td>The Earth and Other Planets</td>\n      <td>[AST-2840/ AST-3840/ PHY-3840]</td>\n      <td>SCH00000031</td>\n      <td>CRS00004743</td>\n      <td>Monsoon</td>\n      <td>2024</td>\n      <td>2024-2025</td>\n      <td>AST</td>\n      <td>False</td>\n      <td>True</td>\n    </tr>\n    <tr>\n      <th>1</th>\n      <td>Monsoon 2024</td>\n      <td>Cosmic Messengers -2 (Laboratory)</td>\n      <td>[AST-3880/ AST-4880/ PHY-3880/ PHY-4880/ PHY-6...</td>\n      <td>SCH00000031</td>\n      <td>CRS00004745</td>\n      <td>Monsoon</td>\n      <td>2024</td>\n      <td>2024-2025</td>\n      <td>AST</td>\n      <td>False</td>\n      <td>True</td>\n    </tr>\n    <tr>\n      <th>2</th>\n      <td>Monsoon 2024</td>\n      <td>Introduction to Biology 3: Molecular Genetics ...</td>\n      <td>[BIO-2201]</td>\n      <td>SCH00000031</td>\n      <td>CRS00003118</td>\n      <td>Monsoon</td>\n      <td>2024</td>\n      <td>2024-2025</td>\n      <td>BIO</td>\n      <td>False</td>\n      <td>False</td>\n    </tr>\n    <tr>\n      <th>3</th>\n      <td>Monsoon 2024</td>\n      <td>Laboratory Course 2: Molecular Biology and Bio...</td>\n      <td>[BIO-2212]</td>\n      <td>SCH00000031</td>\n      <td>CRS00000873</td>\n      <td>Monsoon</td>\n      <td>2024</td>\n      <td>2024-2025</td>\n      <td>BIO</td>\n      <td>False</td>\n      <td>False</td>\n    </tr>\n    <tr>\n      <th>4</th>\n      <td>Monsoon 2024</td>\n      <td>Introduction to Biology II: Cell Biology</td>\n      <td>[BIO-2214]</td>\n      <td>SCH00000031</td>\n      <td>CRS00003225</td>\n      <td>Monsoon</td>\n      <td>2024</td>\n      <td>2024-2025</td>\n      <td>BIO</td>\n      <td>False</td>\n      <td>False</td>\n    </tr>\n    <tr>\n      <th>...</th>\n      <td>...</td>\n      <td>...</td>\n      <td>...</td>\n      <td>...</td>\n      <td>...</td>\n      <td>...</td>\n      <td>...</td>\n      <td>...</td>\n      <td>...</td>\n      <td>...</td>\n      <td>...</td>\n    </tr>\n    <tr>\n      <th>6415</th>\n      <td>Monsoon 2014</td>\n      <td>Introduction to Ethics and Global Citizenship</td>\n      <td>[PHI-209]</td>\n      <td>SCH00000001</td>\n      <td>CRS00000518</td>\n      <td>Monsoon</td>\n      <td>2014</td>\n      <td>2014-2015</td>\n      <td>PHI</td>\n      <td>False</td>\n      <td>False</td>\n    </tr>\n    <tr>\n      <th>6416</th>\n      <td>Monsoon 2014</td>\n      <td>Introduction to Political Theory</td>\n      <td>[POL-101]</td>\n      <td>SCH00000001</td>\n      <td>CRS00000031</td>\n      <td>Monsoon</td>\n      <td>2014</td>\n      <td>2014-2015</td>\n      <td>POL</td>\n      <td>False</td>\n      <td>False</td>\n    </tr>\n    <tr>\n      <th>6417</th>\n      <td>Monsoon 2014</td>\n      <td>Introduction to Psychology</td>\n      <td>[PSY-1001]</td>\n      <td>SCH00000001</td>\n      <td>CRS00000032</td>\n      <td>Monsoon</td>\n      <td>2014</td>\n      <td>2014-2015</td>\n      <td>PSY</td>\n      <td>False</td>\n      <td>False</td>\n    </tr>\n    <tr>\n      <th>6418</th>\n      <td>Monsoon 2014</td>\n      <td>Visual Arts</td>\n      <td>[VA-001]</td>\n      <td>SCH00000001</td>\n      <td>CRS00000034</td>\n      <td>Monsoon</td>\n      <td>2014</td>\n      <td>2014-2015</td>\n      <td>VA</td>\n      <td>False</td>\n      <td>False</td>\n    </tr>\n    <tr>\n      <th>6419</th>\n      <td>Monsoon 2014</td>\n      <td>Ceramics</td>\n      <td>[VA-002]</td>\n      <td>SCH00000001</td>\n      <td>CRS00000035</td>\n      <td>Monsoon</td>\n      <td>2014</td>\n      <td>2014-2015</td>\n      <td>VA</td>\n      <td>False</td>\n      <td>False</td>\n    </tr>\n  </tbody>\n</table>\n<p>6326 rows × 11 columns</p>\n</div>"
     },
     "execution_count": 12,
     "metadata": {},
     "output_type": "execute_result"
    }
   ],
   "source": [
    "df[\"term\"] = df[\"semester\"].apply(lambda x: x.split(\" \")[0])\n",
    "df[\"year\"] = df[\"semester\"].apply(lambda x: int(x.split(\" \")[1]))\n",
    "df[\"acad_year\"] = df.apply(lambda x: str(x[\"year\"]) + \"-\" + str(int(x[\"year\"])+1) if x[\"term\"] == \"Monsoon\" else str(int(x[\"year\"])-1) + \"-\" + str(x[\"year\"]), axis=1)\n",
    "df[\"department\"] = df[\"code\"].apply(lambda x: x.split(\"-\")[0].replace(\"[\", \"\").partition(\"/\")[0].strip())\n",
    "df[\"is_ism\"] = df[\"code\"].apply(lambda x: True if \"-IS-\" in x else False)\n",
    "df[\"is_crosslist\"] = df[\"code\"].apply(lambda x: True if \"/\" in x else False)\n",
    "df = df[df[\"department\"] != \"MLS\"]\n",
    "df"
   ],
   "metadata": {
    "collapsed": false,
    "pycharm": {
     "name": "#%%\n"
    }
   }
  },
  {
   "cell_type": "code",
   "execution_count": 13,
   "outputs": [],
   "source": [
    "df.to_csv(output_path+\"courses.csv\", index=False)"
   ],
   "metadata": {
    "collapsed": false,
    "pycharm": {
     "name": "#%%\n"
    }
   }
  },
  {
   "cell_type": "code",
   "execution_count": 42,
   "outputs": [
    {
     "name": "stderr",
     "output_type": "stream",
     "text": [
      "6326it [10:20, 10.20it/s]\n"
     ]
    }
   ],
   "source": [
    "all_students = scrape_all_course_info(df)"
   ],
   "metadata": {
    "collapsed": false,
    "pycharm": {
     "name": "#%%\n"
    }
   }
  },
  {
   "cell_type": "code",
   "execution_count": 46,
   "outputs": [
    {
     "data": {
      "text/plain": "          course_id  schedule_id  ls ds                     name   ashoka_id  \\\n164927  CRS00000002  SCH00000001   1  1                    Aania  UG-14-1609   \n164928  CRS00000002  SCH00000001   1  1              Adnan Kamal  UG-14-1783   \n164929  CRS00000002  SCH00000001   1  3            Ahan Bezbaroa  UG-14-0336   \n164930  CRS00000002  SCH00000001   1  2           Ajay Sabharwal  UG-14-1711   \n164931  CRS00000002  SCH00000001   1  3         Akashmegh Sharma  UG-14-0696   \n...             ...          ...  .. ..                      ...         ...   \n13750   CRS00005591  SCH00000031   1  0             Gouri S Nair  1020211163   \n13751   CRS00005591  SCH00000031   1  0  Soundarya Lahari Murari  1020211737   \n13752   CRS00005591  SCH00000031   1  0              Sneha Patra  1020211538   \n13753   CRS00005591  SCH00000031   1  0     Kanishk Alok Banthia  1020211139   \n13754   CRS00005591  SCH00000031   0  0   Prabhpreet Singh Setia  1020221301   \n\n          sysgen_id                                       email  \\\n164927  USR00000541                         aania@ashoka.edu.in   \n164928  USR00000546                   adnan.kamal@ashoka.edu.in   \n164929  USR00000547                 ahan.bezbaroa@ashoka.edu.in   \n164930  USR00000548                ajay.sabharwal@ashoka.edu.in   \n164931  USR00000549              akashmegh.sharma@ashoka.edu.in   \n...             ...                                         ...   \n13750   USR00014495               gouri.nair_ug24@ashoka.edu.in   \n13751   USR00043173  soundaryalahari.murari_asp25@ashoka.edu.in   \n13752   USR00040407             sneha.patra_asp25@ashoka.edu.in   \n13753   USR00014584          kanishk.banthia_ug24@ashoka.edu.in   \n13754   USR00020481         prabhpreet.setia_ug25@ashoka.edu.in   \n\n               status  semester_id  \n164927      Confirmed  SCH00000001  \n164928      Confirmed  SCH00000001  \n164929      Confirmed  SCH00000001  \n164930      Confirmed  SCH00000001  \n164931      Confirmed  SCH00000001  \n...               ...          ...  \n13750   PreRegistered  SCH00000031  \n13751   PreRegistered  SCH00000031  \n13752   PreRegistered  SCH00000031  \n13753   PreRegistered  SCH00000031  \n13754      Interested  SCH00000031  \n\n[165536 rows x 10 columns]",
      "text/html": "<div>\n<style scoped>\n    .dataframe tbody tr th:only-of-type {\n        vertical-align: middle;\n    }\n\n    .dataframe tbody tr th {\n        vertical-align: top;\n    }\n\n    .dataframe thead th {\n        text-align: right;\n    }\n</style>\n<table border=\"1\" class=\"dataframe\">\n  <thead>\n    <tr style=\"text-align: right;\">\n      <th></th>\n      <th>course_id</th>\n      <th>schedule_id</th>\n      <th>ls</th>\n      <th>ds</th>\n      <th>name</th>\n      <th>ashoka_id</th>\n      <th>sysgen_id</th>\n      <th>email</th>\n      <th>status</th>\n      <th>semester_id</th>\n    </tr>\n  </thead>\n  <tbody>\n    <tr>\n      <th>164927</th>\n      <td>CRS00000002</td>\n      <td>SCH00000001</td>\n      <td>1</td>\n      <td>1</td>\n      <td>Aania</td>\n      <td>UG-14-1609</td>\n      <td>USR00000541</td>\n      <td>aania@ashoka.edu.in</td>\n      <td>Confirmed</td>\n      <td>SCH00000001</td>\n    </tr>\n    <tr>\n      <th>164928</th>\n      <td>CRS00000002</td>\n      <td>SCH00000001</td>\n      <td>1</td>\n      <td>1</td>\n      <td>Adnan Kamal</td>\n      <td>UG-14-1783</td>\n      <td>USR00000546</td>\n      <td>adnan.kamal@ashoka.edu.in</td>\n      <td>Confirmed</td>\n      <td>SCH00000001</td>\n    </tr>\n    <tr>\n      <th>164929</th>\n      <td>CRS00000002</td>\n      <td>SCH00000001</td>\n      <td>1</td>\n      <td>3</td>\n      <td>Ahan Bezbaroa</td>\n      <td>UG-14-0336</td>\n      <td>USR00000547</td>\n      <td>ahan.bezbaroa@ashoka.edu.in</td>\n      <td>Confirmed</td>\n      <td>SCH00000001</td>\n    </tr>\n    <tr>\n      <th>164930</th>\n      <td>CRS00000002</td>\n      <td>SCH00000001</td>\n      <td>1</td>\n      <td>2</td>\n      <td>Ajay Sabharwal</td>\n      <td>UG-14-1711</td>\n      <td>USR00000548</td>\n      <td>ajay.sabharwal@ashoka.edu.in</td>\n      <td>Confirmed</td>\n      <td>SCH00000001</td>\n    </tr>\n    <tr>\n      <th>164931</th>\n      <td>CRS00000002</td>\n      <td>SCH00000001</td>\n      <td>1</td>\n      <td>3</td>\n      <td>Akashmegh Sharma</td>\n      <td>UG-14-0696</td>\n      <td>USR00000549</td>\n      <td>akashmegh.sharma@ashoka.edu.in</td>\n      <td>Confirmed</td>\n      <td>SCH00000001</td>\n    </tr>\n    <tr>\n      <th>...</th>\n      <td>...</td>\n      <td>...</td>\n      <td>...</td>\n      <td>...</td>\n      <td>...</td>\n      <td>...</td>\n      <td>...</td>\n      <td>...</td>\n      <td>...</td>\n      <td>...</td>\n    </tr>\n    <tr>\n      <th>13750</th>\n      <td>CRS00005591</td>\n      <td>SCH00000031</td>\n      <td>1</td>\n      <td>0</td>\n      <td>Gouri S Nair</td>\n      <td>1020211163</td>\n      <td>USR00014495</td>\n      <td>gouri.nair_ug24@ashoka.edu.in</td>\n      <td>PreRegistered</td>\n      <td>SCH00000031</td>\n    </tr>\n    <tr>\n      <th>13751</th>\n      <td>CRS00005591</td>\n      <td>SCH00000031</td>\n      <td>1</td>\n      <td>0</td>\n      <td>Soundarya Lahari Murari</td>\n      <td>1020211737</td>\n      <td>USR00043173</td>\n      <td>soundaryalahari.murari_asp25@ashoka.edu.in</td>\n      <td>PreRegistered</td>\n      <td>SCH00000031</td>\n    </tr>\n    <tr>\n      <th>13752</th>\n      <td>CRS00005591</td>\n      <td>SCH00000031</td>\n      <td>1</td>\n      <td>0</td>\n      <td>Sneha Patra</td>\n      <td>1020211538</td>\n      <td>USR00040407</td>\n      <td>sneha.patra_asp25@ashoka.edu.in</td>\n      <td>PreRegistered</td>\n      <td>SCH00000031</td>\n    </tr>\n    <tr>\n      <th>13753</th>\n      <td>CRS00005591</td>\n      <td>SCH00000031</td>\n      <td>1</td>\n      <td>0</td>\n      <td>Kanishk Alok Banthia</td>\n      <td>1020211139</td>\n      <td>USR00014584</td>\n      <td>kanishk.banthia_ug24@ashoka.edu.in</td>\n      <td>PreRegistered</td>\n      <td>SCH00000031</td>\n    </tr>\n    <tr>\n      <th>13754</th>\n      <td>CRS00005591</td>\n      <td>SCH00000031</td>\n      <td>0</td>\n      <td>0</td>\n      <td>Prabhpreet Singh Setia</td>\n      <td>1020221301</td>\n      <td>USR00020481</td>\n      <td>prabhpreet.setia_ug25@ashoka.edu.in</td>\n      <td>Interested</td>\n      <td>SCH00000031</td>\n    </tr>\n  </tbody>\n</table>\n<p>165536 rows × 10 columns</p>\n</div>"
     },
     "execution_count": 46,
     "metadata": {},
     "output_type": "execute_result"
    }
   ],
   "source": [
    "temp = {}\n",
    "for key in all_students:\n",
    "    course = all_students[key]\n",
    "    temp[key] = {}\n",
    "    temp[key][\"schedule_id\"] = [x['ScheduleSysGenId'] for x in course]\n",
    "    temp[key][\"ls\"] = [x['LSNo'] for x in course]\n",
    "    temp[key][\"ds\"] = [x['DSNo'] for x in course]\n",
    "    temp[key][\"name\"] = [x['UserName'] for x in course]\n",
    "    temp[key][\"ashoka_id\"] = [x['AshokaId'] for x in course]\n",
    "    temp[key][\"sysgen_id\"] = [x['UserSysGenId'] for x in course]\n",
    "    temp[key][\"email\"] = [x['AshokaEmailId'] for x in course]\n",
    "    temp[key][\"status\"] = [x['Status'] for x in course]\n",
    "    temp[key][\"status\"] = [x['Status'] for x in course]\n",
    "    temp[key][\"semester_id\"] = [x['ScheduleSysGenId'] for x in course]\n",
    "\n",
    "df2 = pd.DataFrame([\n",
    "    {**{'course_id': key[1]}, **{subkey: value[i] if i < len(value) else None for subkey, value in subdict.items()}}\n",
    "    for key, subdict in temp.items()\n",
    "    for i in range(max(len(lst) for lst in subdict.values()))\n",
    "])\n",
    "df2.sort_values(by=[\"semester_id\", \"course_id\"])"
   ],
   "metadata": {
    "collapsed": false,
    "pycharm": {
     "name": "#%%\n"
    }
   }
  },
  {
   "cell_type": "code",
   "execution_count": 44,
   "outputs": [],
   "source": [
    "df2.to_csv(output_path+\"students.csv\", index=False)"
   ],
   "metadata": {
    "collapsed": false,
    "pycharm": {
     "name": "#%%\n"
    }
   }
  },
  {
   "cell_type": "code",
   "execution_count": null,
   "outputs": [],
   "source": [],
   "metadata": {
    "collapsed": false,
    "pycharm": {
     "name": "#%%\n"
    }
   }
  }
 ],
 "metadata": {
  "kernelspec": {
   "display_name": "Python 3",
   "language": "python",
   "name": "python3"
  },
  "language_info": {
   "codemirror_mode": {
    "name": "ipython",
    "version": 2
   },
   "file_extension": ".py",
   "mimetype": "text/x-python",
   "name": "python",
   "nbconvert_exporter": "python",
   "pygments_lexer": "ipython2",
   "version": "2.7.6"
  }
 },
 "nbformat": 4,
 "nbformat_minor": 0
}